{
 "cells": [
  {
   "cell_type": "code",
   "execution_count": null,
   "id": "4e241a98",
   "metadata": {},
   "outputs": [],
   "source": [
    "import matplotlib.pyplot as plt\n",
    "import cv2\n",
    "import os\n",
    "from tqdm import tqdm\n",
    "import numpy as np\n",
    "from PIL import Image\n",
    "import pandas as pd"
   ]
  },
  {
   "cell_type": "code",
   "execution_count": null,
   "id": "025c06b3",
   "metadata": {},
   "outputs": [],
   "source": [
    "mypath = r''\n",
    "files = [f for f in os.listdir(mypath) if os.path.isfile(os.path.join(mypath, f))]\n",
    "results = {}\n",
    "for file in tqdm(files):\n",
    "    gray = cv2.imread(os.path.join(mypath, file), cv2.IMREAD_GRAYSCALE)\n",
    "    dimensions = gray.shape\n",
    "    size = dimensions[0]*dimensions[1]\n",
    "    ret,white = cv2.threshold(gray,254,255,0)\n",
    "    ret,black = cv2.threshold(gray,1,255,0)\n",
    "    wClip = np.count_nonzero(white)/size\n",
    "    bClip = np.count_nonzero(black==0)/size\n",
    "    avg = np.average(gray)\n",
    "    results[file] = {'w':wClip,'b':bClip, 'average':avg}\n",
    "df = pd.DataFrame.from_dict(results, orient='index')\n",
    "df.to_csv('reuslts.csv')"
   ]
  }
 ],
 "metadata": {
  "kernelspec": {
   "display_name": "Python 3 (ipykernel)",
   "language": "python",
   "name": "python3"
  },
  "language_info": {
   "codemirror_mode": {
    "name": "ipython",
    "version": 3
   },
   "file_extension": ".py",
   "mimetype": "text/x-python",
   "name": "python",
   "nbconvert_exporter": "python",
   "pygments_lexer": "ipython3",
   "version": "3.7.9"
  }
 },
 "nbformat": 4,
 "nbformat_minor": 5
}
